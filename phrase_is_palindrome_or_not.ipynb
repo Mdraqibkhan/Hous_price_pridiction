{
 "cells": [
  {
   "cell_type": "code",
   "execution_count": 1,
   "id": "4c6c040d",
   "metadata": {},
   "outputs": [],
   "source": [
    "def palindrome(s):\n",
    "    s=s.replace(\" \",\"\")    \n",
    "    k=s[::-1]\n",
    "    x=0\n",
    "    l=len(s)\n",
    "    for i in range(l):\n",
    "        if s[i]==k[i]: \n",
    "            x+=1  \n",
    "        else:\n",
    "            pass\n",
    "    if x==l:\n",
    "        print('phrase is palindrome')\n",
    "    else:\n",
    "        print('phrase is not palindrome')\n",
    "                \n",
    "    "
   ]
  },
  {
   "cell_type": "code",
   "execution_count": 2,
   "id": "eb82d070",
   "metadata": {},
   "outputs": [
    {
     "name": "stdout",
     "output_type": "stream",
     "text": [
      "phrase is palindrome\n"
     ]
    }
   ],
   "source": [
    "palindrome('nurses run')"
   ]
  },
  {
   "cell_type": "code",
   "execution_count": 3,
   "id": "b296f3e6",
   "metadata": {},
   "outputs": [
    {
     "name": "stdout",
     "output_type": "stream",
     "text": [
      "phrase is palindrome\n"
     ]
    }
   ],
   "source": [
    "palindrome('racecar')"
   ]
  },
  {
   "cell_type": "code",
   "execution_count": null,
   "id": "c2ce7a3d",
   "metadata": {},
   "outputs": [],
   "source": []
  }
 ],
 "metadata": {
  "kernelspec": {
   "display_name": "Python 3 (ipykernel)",
   "language": "python",
   "name": "python3"
  },
  "language_info": {
   "codemirror_mode": {
    "name": "ipython",
    "version": 3
   },
   "file_extension": ".py",
   "mimetype": "text/x-python",
   "name": "python",
   "nbconvert_exporter": "python",
   "pygments_lexer": "ipython3",
   "version": "3.9.7"
  }
 },
 "nbformat": 4,
 "nbformat_minor": 5
}
