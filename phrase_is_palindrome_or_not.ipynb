{
 "cells": [
  {
   "cell_type": "code",
   "execution_count": 1,
   "id": "da47f2fd",
   "metadata": {},
   "outputs": [],
   "source": [
    "def palindrome(s):\n",
    "    s=s.replace(\" \",\"\")    \n",
    "    k=s[::-1]\n",
    "    x=0\n",
    "    l=len(s)\n",
    "    for i in range(l):\n",
    "        if s[i]==k[i]: \n",
    "            x+=1  \n",
    "        else:\n",
    "            pass\n",
    "    if x==l:\n",
    "        print('phrase is palindrome')\n",
    "    else:\n",
    "        print('phrase is not palindrome')\n",
    "                \n",
    "    "
   ]
  },
  {
   "cell_type": "code",
   "execution_count": 2,
   "id": "9518b707",
   "metadata": {},
   "outputs": [
    {
     "name": "stdout",
     "output_type": "stream",
     "text": [
      "phrase is palindrome\n"
     ]
    }
   ],
   "source": [
    "palindrome('nurses run')"
   ]
  },
  {
   "cell_type": "code",
   "execution_count": 3,
   "id": "237da958",
   "metadata": {},
   "outputs": [
    {
     "name": "stdout",
     "output_type": "stream",
     "text": [
      "phrase is palindrome\n"
     ]
    }
   ],
   "source": [
    "palindrome('racecar')"
   ]
  },
  {
   "cell_type": "code",
   "execution_count": 4,
   "id": "9e380c74",
   "metadata": {},
   "outputs": [],
   "source": [
    "# or\n",
    "def palindrome(s):\n",
    "    s=s.replace(\" \",\"\")    \n",
    "    k=s[::-1]\n",
    "    \n",
    "    if k==s:\n",
    "        print('phrase is palindrome')\n",
    "    else:\n",
    "        print('phrase is not palindrome')\n",
    "                "
   ]
  },
  {
   "cell_type": "code",
   "execution_count": 5,
   "id": "b17256e8",
   "metadata": {},
   "outputs": [
    {
     "name": "stdout",
     "output_type": "stream",
     "text": [
      "phrase is palindrome\n"
     ]
    }
   ],
   "source": [
    "palindrome('nurses run')"
   ]
  },
  {
   "cell_type": "code",
   "execution_count": 6,
   "id": "a69f8118",
   "metadata": {},
   "outputs": [
    {
     "name": "stdout",
     "output_type": "stream",
     "text": [
      "phrase is palindrome\n"
     ]
    }
   ],
   "source": [
    "palindrome('racecar')"
   ]
  },
  {
   "cell_type": "code",
   "execution_count": null,
   "id": "7d320817",
   "metadata": {},
   "outputs": [],
   "source": []
  }
 ],
 "metadata": {
  "kernelspec": {
   "display_name": "Python 3 (ipykernel)",
   "language": "python",
   "name": "python3"
  },
  "language_info": {
   "codemirror_mode": {
    "name": "ipython",
    "version": 3
   },
   "file_extension": ".py",
   "mimetype": "text/x-python",
   "name": "python",
   "nbconvert_exporter": "python",
   "pygments_lexer": "ipython3",
   "version": "3.9.7"
  }
 },
 "nbformat": 4,
 "nbformat_minor": 5
}
