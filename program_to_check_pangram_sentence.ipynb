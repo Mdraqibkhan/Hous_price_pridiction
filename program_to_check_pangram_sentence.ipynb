{
 "cells": [
  {
   "cell_type": "code",
   "execution_count": 1,
   "id": "3b22690f",
   "metadata": {},
   "outputs": [],
   "source": [
    "# **Write a Python function to check whether a string is pangram or not. (Assume the string passed in does not have any punctuation)**\n",
    "\n",
    "#     Note : Pangrams are words or sentences containing every letter of the alphabet at least once.\n",
    "#     For example : \"The quick brown fox jumps over the lazy dog\"\n",
    "\n",
    "# Hint: You may want to use .replace() method to get rid of spaces.\n",
    "\n",
    "# Hint: Look at the [string module](https://stackoverflow.com/questions/16060899/alphabet-range-in-python)\n",
    "\n",
    "# Hint: In case you want to use [set comparisons](https://medium.com/better-programming/a-visual-guide-to-set-comparisons-in-python-6ab7edb9ec41)"
   ]
  },
  {
   "cell_type": "code",
   "execution_count": 3,
   "id": "48d61141",
   "metadata": {},
   "outputs": [],
   "source": [
    "import string\n",
    "\n",
    "def ispangram(str1, alphabet=string.ascii_lowercase):\n",
    "    x=0\n",
    "    str1=str1.replace(\" \",\"\")   # To remove the space\n",
    "    str1=str1.lower() # convert all the alphabet into lower case \n",
    "    str1=set(str1) # remove the repeating letters\n",
    "    c = str1.intersection(alphabet)   # compare the string intersectin function gives the common output if all letters are present then length of result will be 26!\n",
    "    if len(c)==26:\n",
    "        return 'string is pangram'\n",
    "    else:\n",
    "        return 'string is not pangram'"
   ]
  },
  {
   "cell_type": "code",
   "execution_count": 4,
   "id": "5e4d7822",
   "metadata": {},
   "outputs": [
    {
     "data": {
      "text/plain": [
       "'string is pangram'"
      ]
     },
     "execution_count": 4,
     "metadata": {},
     "output_type": "execute_result"
    }
   ],
   "source": [
    "\n",
    "##check \n",
    "ispangram(\"The quick brown fox jumps over the lazy dog\")\n"
   ]
  },
  {
   "cell_type": "code",
   "execution_count": 5,
   "id": "714ecffa",
   "metadata": {},
   "outputs": [
    {
     "data": {
      "text/plain": [
       "'string is not pangram'"
      ]
     },
     "execution_count": 5,
     "metadata": {},
     "output_type": "execute_result"
    }
   ],
   "source": [
    "ispangram(\" the quick brown f lazy dog\")"
   ]
  },
  {
   "cell_type": "code",
   "execution_count": 6,
   "id": "edc899f6",
   "metadata": {},
   "outputs": [
    {
     "data": {
      "text/plain": [
       "'abcdefghijklmnopqrstuvwxyz'"
      ]
     },
     "execution_count": 6,
     "metadata": {},
     "output_type": "execute_result"
    }
   ],
   "source": [
    "string.ascii_lowercase   "
   ]
  },
  {
   "cell_type": "code",
   "execution_count": null,
   "id": "5b7d2f3a",
   "metadata": {},
   "outputs": [],
   "source": []
  }
 ],
 "metadata": {
  "kernelspec": {
   "display_name": "Python 3 (ipykernel)",
   "language": "python",
   "name": "python3"
  },
  "language_info": {
   "codemirror_mode": {
    "name": "ipython",
    "version": 3
   },
   "file_extension": ".py",
   "mimetype": "text/x-python",
   "name": "python",
   "nbconvert_exporter": "python",
   "pygments_lexer": "ipython3",
   "version": "3.9.7"
  }
 },
 "nbformat": 4,
 "nbformat_minor": 5
}
